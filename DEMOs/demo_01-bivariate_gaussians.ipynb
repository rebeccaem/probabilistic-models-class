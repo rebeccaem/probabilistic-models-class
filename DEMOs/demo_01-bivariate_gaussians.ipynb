{
 "cells": [
  {
   "cell_type": "markdown",
   "id": "fdca2b1e-e514-4be4-b8e0-92c1df5d2b54",
   "metadata": {},
   "source": [
    "## Demo 1: Bivairate Gaussian Distribution\n",
    "\n",
    "Today, we will learn some intuition about the bivariate Gaussian.\n",
    "\n",
    "### Goals:\n",
    "1. Get intuition about how the Gaussian distribution is affected by its covariance matrix and mean vector.\n",
    "2. We may find an orthogonal matrix (like a rotational operator) to de-correlate the two variables.\n",
    "3. Covariance matrix is positive definite, which has nice properties.\n",
    "\n",
    "### Highlights:\n",
    "A part of the DEMO today is based on Christian Hill's [Visualizing the bivariate Gaussian distribution](https://scipython.com/blog/visualizing-the-bivariate-gaussian-distribution/).\n",
    "\n",
    "The [Einstein notation](https://en.wikipedia.org/wiki/Einstein_notation) is a nice way to represent a complicated matrix multiplication. It's realized in NumPy's `einsum()` function. See [Manual](https://numpy.org/doc/stable/reference/generated/numpy.einsum.html) or [this post](https://ajcr.net/Basic-guide-to-einsum/)."
   ]
  },
  {
   "cell_type": "code",
   "execution_count": null,
   "id": "0d108ac3-0c9c-4dd2-b816-e7ffe115d3bc",
   "metadata": {},
   "outputs": [],
   "source": [
    "import matplotlib.pyplot as plt\n",
    "import numpy as np\n",
    "from matplotlib import cm\n",
    "from mpl_toolkits.mplot3d import Axes3D\n",
    "\n",
    "# Our 2-dimensional distribution will be over variables X and Y\n",
    "N = 50\n",
    "X = np.linspace(-3, 3, N)\n",
    "Y = np.linspace(-3, 4, N)\n",
    "X, Y = np.meshgrid(X, Y)\n",
    "\n",
    "# Mean vector and covariance matrix\n",
    "mu = np.array([0.0, 1.0])\n",
    "sigma = np.array([[1.0, -0.5], [-0.5, 1.5]])\n",
    "\n",
    "# Pack X and Y into a single 3-dimensional array\n",
    "pos = np.empty(X.shape + (2,))\n",
    "pos[:, :, 0] = X\n",
    "pos[:, :, 1] = Y\n",
    "\n",
    "\n",
    "def multivariate_gaussian(pos, mu, sigma):\n",
    "    \"\"\"Return the multivariate Gaussian distribution on array positions.\n",
    "\n",
    "    pos is an array constructed by packing the meshed arrays of variables\n",
    "    x_1, x_2, x_3, ..., x_k into its _last_ dimension.\n",
    "\n",
    "    \"\"\"\n",
    "\n",
    "    n = mu.shape[0]\n",
    "    sigma_det = np.linalg.det(sigma)\n",
    "    sigma_inv = np.linalg.inv(sigma)\n",
    "    N = np.sqrt((2 * np.pi) ** n * sigma_det)\n",
    "    \n",
    "    # This einsum call calculates (x-mu)T.sigma-1.(x-mu) in a vectorized\n",
    "    # way across all the input variables.\n",
    "    fac = np.einsum(\"ijk,kl,ijl->ij\", pos - mu, sigma_inv, pos - mu)\n",
    "\n",
    "    return np.exp(-fac / 2) / N\n",
    "\n",
    "\n",
    "# The distribution on the variables X, Y packed into pos.\n",
    "Z = multivariate_gaussian(pos, mu, sigma)"
   ]
  },
  {
   "cell_type": "code",
   "execution_count": null,
   "id": "94c19473-256f-44ff-aa4c-dab51c6bb961",
   "metadata": {},
   "outputs": [],
   "source": [
    "# We can visualize the covariance matrix...\n",
    "import seaborn as sns\n",
    "ax = sns.heatmap(sigma, annot=True, linewidth=1, cmap=\"viridis\")\n",
    "ax.set(xlabel=\"x\", ylabel=\"y\")\n",
    "ax.xaxis.tick_top()"
   ]
  },
  {
   "cell_type": "code",
   "execution_count": null,
   "id": "1e558164-1173-4cb5-95ff-6095b6eb06f8",
   "metadata": {},
   "outputs": [],
   "source": [
    "# Let's plot the 2D probability density function!\n",
    "ax = sns.heatmap(Z, cmap=\"viridis\")\n",
    "ax.set(xlabel=\"x\", ylabel=\"y\")\n",
    "ax.xaxis.tick_top()"
   ]
  },
  {
   "cell_type": "code",
   "execution_count": null,
   "id": "b30f317b-35d1-40e7-ba5f-21485b3ab840",
   "metadata": {},
   "outputs": [],
   "source": [
    "# Create a surface plot and projected filled contour plot under it.\n",
    "fig = plt.figure()\n",
    "ax = fig.add_subplot(projection=\"3d\")\n",
    "\n",
    "ax.plot_surface(\n",
    "    X, Y, Z, rstride=3, cstride=3, linewidth=1, antialiased=True, cmap=cm.viridis\n",
    ")\n",
    "\n",
    "cset = ax.contourf(X, Y, Z, zdir=\"z\", offset=-0.15, cmap=cm.viridis)\n",
    "\n",
    "# Adjust the limits, ticks and view angle\n",
    "fig\n",
    "ax.set_zlim(-0.15, 0.2)\n",
    "ax.set_zticks(np.linspace(0, 0.2, 5))\n",
    "ax.view_init(27, -21)\n",
    "# ax.view_init(0, 90)  # rotate view angle to see where mode(x) lies\n",
    "# ax.view_init(0, 0)   # rotate view angle to see where mode(y) lies\n",
    "\n",
    "plt.show()"
   ]
  },
  {
   "cell_type": "markdown",
   "id": "81d4cd30-e88e-481f-9150-362c730c38df",
   "metadata": {},
   "source": [
    "### The covariance matrix is a real symmetric matrix.\n",
    "\n",
    "Real symmetric matrices not only have real eigenvalues, they are always diagonalizable.\n",
    "\n",
    "We can use its eigenvectors to diagonize it. In other words, we are looking for a linear combination of `x` and `y`, such that the new `x` and new `y` are decorrelated."
   ]
  },
  {
   "cell_type": "code",
   "execution_count": null,
   "id": "3a98cc71-f9fc-4ed2-9889-432b175139f1",
   "metadata": {},
   "outputs": [],
   "source": [
    "from numpy.linalg import eig\n",
    "eigenval, eigenvec = np.linalg.eig(sigma)"
   ]
  },
  {
   "cell_type": "code",
   "execution_count": null,
   "id": "0861c5ed-dc61-4014-abbe-2544dcc267b1",
   "metadata": {},
   "outputs": [],
   "source": [
    "sigma"
   ]
  },
  {
   "cell_type": "code",
   "execution_count": null,
   "id": "5c01fd8b-b7de-42b8-980f-d9ce8d131dbf",
   "metadata": {},
   "outputs": [],
   "source": [
    "print(sigma_transformed := np.einsum('ij,jk,kl->il', eigenvec.T, sigma, eigenvec))"
   ]
  },
  {
   "cell_type": "code",
   "execution_count": null,
   "id": "99a57731-5843-41b7-8596-7006223d5b07",
   "metadata": {},
   "outputs": [],
   "source": [
    "# The matrix of eigenvectors is orthogonal, we can check this fact by the following.\n",
    "print(np.dot(eigenvec.T, eigenvec), \"\\n\")\n",
    "\n",
    "# as well as...\n",
    "print(np.dot(eigenvec, eigenvec.T))"
   ]
  },
  {
   "cell_type": "code",
   "execution_count": null,
   "id": "452dc5de-e184-40eb-9124-843d598d48c7",
   "metadata": {},
   "outputs": [],
   "source": [
    "# The distribution on the variables X, Y packed into pos.\n",
    "Z = multivariate_gaussian(pos, mu, sigma_transformed)\n",
    "\n",
    "ax = sns.heatmap(Z, cmap=\"crest\")\n",
    "ax.set(xlabel=\"x\", ylabel=\"y\")\n",
    "ax.xaxis.tick_top()"
   ]
  },
  {
   "cell_type": "code",
   "execution_count": null,
   "id": "fe770a01-e655-40ab-95dc-2462691cf46c",
   "metadata": {},
   "outputs": [],
   "source": []
  }
 ],
 "metadata": {
  "kernelspec": {
   "display_name": "Python 3 (ipykernel)",
   "language": "python",
   "name": "python3"
  },
  "language_info": {
   "codemirror_mode": {
    "name": "ipython",
    "version": 3
   },
   "file_extension": ".py",
   "mimetype": "text/x-python",
   "name": "python",
   "nbconvert_exporter": "python",
   "pygments_lexer": "ipython3",
   "version": "3.9.15"
  }
 },
 "nbformat": 4,
 "nbformat_minor": 5
}
